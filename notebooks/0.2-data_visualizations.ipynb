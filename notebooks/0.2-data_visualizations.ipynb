{
 "cells": [
  {
   "cell_type": "code",
   "execution_count": null,
   "metadata": {},
   "outputs": [],
   "source": [
    "import os\n",
    "\n",
    "import contextily as ctx\n",
    "import geopandas as gpd\n",
    "import matplotlib.pyplot as plt\n",
    "from matplotlib.colors import LinearSegmentedColormap"
   ]
  },
  {
   "cell_type": "code",
   "execution_count": null,
   "metadata": {},
   "outputs": [],
   "source": [
    "data = \"../data\"\n",
    "data_interim = os.path.join(data, \"interim\")\n",
    "data_preprocessed = os.path.join(data, \"preprocessed\")\n",
    "\n",
    "map_pdf = os.path.join(\"../reports/figures/maps/pdf\")"
   ]
  },
  {
   "cell_type": "code",
   "execution_count": null,
   "metadata": {},
   "outputs": [],
   "source": [
    "# first, setup all directories\n",
    "for directory in [\n",
    "    map_pdf\n",
    "]:\n",
    "    if not os.path.exists(directory):\n",
    "        os.makedirs(directory)"
   ]
  },
  {
   "cell_type": "code",
   "execution_count": null,
   "metadata": {},
   "outputs": [],
   "source": [
    "sealing = os.path.join(data_interim, \"sealing\", \"sealing.geojson\")\n",
    "district = os.path.join(data_interim, \"district\", \"district.geojson\")\n",
    "ground_level = os.path.join(data_interim, \"ground_level\", \"ground_level_subset.geojson\")\n",
    "\n",
    "df_sealing = gpd.read_file(sealing)\n",
    "df_district = gpd.read_file(district)\n",
    "df_ground_level = gpd.read_file(ground_level)"
   ]
  },
  {
   "cell_type": "markdown",
   "metadata": {},
   "source": [
    "# Visualize the Data\n",
    "\n",
    "## Districts of Berlin"
   ]
  },
  {
   "cell_type": "code",
   "execution_count": null,
   "metadata": {},
   "outputs": [],
   "source": [
    "map_district = df_district.to_crs(epsg=3857).plot(\n",
    "    figsize=(15, 15),\n",
    "    alpha=0.2,\n",
    "    edgecolor=\"black\",\n",
    "    linewidth=3,\n",
    ")\n",
    "ctx.add_basemap(map_district, url=ctx.providers.Stamen.TonerLite)\n",
    "map_district.set_axis_off()"
   ]
  },
  {
   "cell_type": "markdown",
   "metadata": {},
   "source": [
    "## Ground Level of Berlin"
   ]
  },
  {
   "cell_type": "code",
   "execution_count": null,
   "metadata": {},
   "outputs": [],
   "source": [
    "min_ground_level = df_ground_level[\"height\"].min()\n",
    "max_ground_level = df_ground_level[\"height\"].max()\n",
    "\n",
    "map_ground_level = df_ground_level.to_crs(epsg=3857).plot(\n",
    "    figsize=(15, 15),\n",
    "    column=\"height\",\n",
    "    alpha=0.5,\n",
    "    cmap=LinearSegmentedColormap.from_list(\"\", [\"blue\", \"yellow\", \"orange\"], N=1000),\n",
    "    norm=plt.Normalize(min_ground_level, max_ground_level)\n",
    ")\n",
    "ctx.add_basemap(map_ground_level, url=ctx.providers.Stamen.TonerLite)\n",
    "map_ground_level.set_axis_off()"
   ]
  },
  {
   "cell_type": "markdown",
   "metadata": {},
   "source": [
    "## Level of Sealing of Berlin"
   ]
  },
  {
   "cell_type": "code",
   "execution_count": null,
   "metadata": {},
   "outputs": [],
   "source": [
    "map_sealing = df_sealing.to_crs(epsg=3857).plot(\n",
    "    figsize=(15, 15),\n",
    "    column=\"sealing\",\n",
    "    alpha=0.5,\n",
    "    cmap=LinearSegmentedColormap.from_list(\"\", [\"green\", \"yellow\", \"orange\", \"red\"], N=1000),\n",
    "    norm=plt.Normalize(0, 100)\n",
    ")\n",
    "ctx.add_basemap(map_sealing, url=ctx.providers.Stamen.TonerLite)\n",
    "map_sealing.set_axis_off()\n",
    "plt.savefig(os.path.join(map_pdf, \"sealing.pdf\"), optimize=True, bbox_inches=\"tight\", pad_inches=0)"
   ]
  },
  {
   "cell_type": "markdown",
   "metadata": {},
   "source": [
    "# Fixing Missing Values for Sealing\n",
    "\n",
    "As described in the documentation of the sealing data set, there are no observations for streets,\n",
    "but can be assumed as 100% sealing.\n",
    "\n",
    "Missing areas are shown as white.\n",
    "\n",
    "![Zoomed Sealing Map](../reports//figures/maps/jpg/sealing_zoomed.png)"
   ]
  },
  {
   "cell_type": "markdown",
   "metadata": {},
   "source": [
    "`GeoDataFrame`s can do spatial joins. The following keeps the structure of the `df_ground_level`\n",
    "and fills missing sealing values with 100%."
   ]
  },
  {
   "cell_type": "code",
   "execution_count": null,
   "metadata": {},
   "outputs": [],
   "source": [
    "joined = gpd.sjoin(df_ground_level, df_sealing, how=\"left\")\n",
    "joined[\"sealing\"] = joined[\"sealing\"].fillna(100)\n",
    "joined.drop(columns=[\"index_right\"], inplace=True)\n",
    "\n",
    "joined.head()"
   ]
  },
  {
   "cell_type": "markdown",
   "metadata": {},
   "source": [
    "Obviously, there are some duplicated rows (See index).\n",
    "This happens because it is possible that multiple ground level tiles intersect more than one sealing areas.\n",
    "\n",
    "To get smoother transitions, average the values for the duplicated tiles (indices) and remove the duplicates."
   ]
  },
  {
   "cell_type": "code",
   "execution_count": null,
   "metadata": {},
   "outputs": [],
   "source": [
    "duplicates_index = joined[joined.duplicated(\"geometry\", keep=False)].index.unique()\n",
    "\n",
    "mean_sealing = [joined.loc[index][\"sealing\"].mean() for index in duplicates_index]\n",
    "joined.drop_duplicates(\"geometry\", inplace=True)\n",
    "joined.loc[duplicates_index, \"sealing\"] = mean_sealing\n",
    "\n",
    "joined.to_file(os.path.join(data_preprocessed, \"joined_ground-level_sealing.geojson\"), driver=\"GeoJSON\")\n",
    "joined.head()"
   ]
  },
  {
   "cell_type": "markdown",
   "metadata": {},
   "source": [
    "This is the final data and used in further computations."
   ]
  }
 ],
 "metadata": {
  "kernelspec": {
   "display_name": "Python 3",
   "language": "python",
   "name": "python3"
  },
  "language_info": {
   "codemirror_mode": {
    "name": "ipython",
    "version": 3
   },
   "file_extension": ".py",
   "mimetype": "text/x-python",
   "name": "python",
   "nbconvert_exporter": "python",
   "pygments_lexer": "ipython3",
   "version": "3.7.5"
  }
 },
 "nbformat": 4,
 "nbformat_minor": 4
}
