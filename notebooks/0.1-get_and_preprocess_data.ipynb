{
 "cells": [
  {
   "cell_type": "code",
   "execution_count": null,
   "metadata": {},
   "outputs": [],
   "source": [
    "import os\n",
    "import shutil\n",
    "from functools import reduce\n",
    "from glob import glob\n",
    "\n",
    "import geopandas as gpd\n",
    "import numpy as np"
   ]
  },
  {
   "cell_type": "markdown",
   "metadata": {},
   "source": [
    "## Constant Definition"
   ]
  },
  {
   "cell_type": "code",
   "execution_count": null,
   "metadata": {},
   "outputs": [],
   "source": [
    "data_raw = \"../data/raw\"\n",
    "\n",
    "sealing_raw = os.path.join(data_raw, \"sealing\")\n",
    "district_raw = os.path.join(data_raw, \"district\")\n",
    "ground_level_raw = os.path.join(data_raw, \"ground_level\")\n",
    "\n",
    "data_interim = \"../data/interim\"\n",
    "sealing_interim = os.path.join(data_interim, \"sealing\")\n",
    "district_interim = os.path.join(data_interim, \"district\")\n",
    "ground_level_interim = os.path.join(data_interim, \"ground_level\")\n",
    "\n",
    "district_url = \"https://opendata.arcgis.com/datasets/9f5d82911d4545c4be1da8cab89f21ae_0.geojson\""
   ]
  },
  {
   "cell_type": "code",
   "execution_count": null,
   "metadata": {},
   "outputs": [],
   "source": [
    "x_coordinate_start = 390\n",
    "y_coordinate_start = 5818\n",
    "\n",
    "number_of_tiles = 2"
   ]
  },
  {
   "cell_type": "code",
   "execution_count": null,
   "metadata": {},
   "outputs": [],
   "source": [
    "# first, setup all directories\n",
    "for directory in [\n",
    "    sealing_raw,\n",
    "    district_raw,\n",
    "    ground_level_raw,\n",
    "    sealing_interim,\n",
    "    district_interim,\n",
    "    ground_level_interim\n",
    "        ]:\n",
    "    if not os.path.exists(directory):\n",
    "        os.makedirs(directory)"
   ]
  },
  {
   "cell_type": "markdown",
   "metadata": {},
   "source": [
    "# Ground Level of Berlin\n",
    "\n",
    "Uses the `berlin-opendata-downloader`: https://github.com/se-jaeger/berlin-gelaendemodelle-downloader\n",
    "Compress the data on the fly to a tile size of `5x5`."
   ]
  },
  {
   "cell_type": "code",
   "execution_count": null,
   "metadata": {},
   "outputs": [],
   "source": [
    "!pip install berlin-opendata-downloader\n",
    "!berlin_downloader download {ground_level_raw} --compress 5 --file-format geojson"
   ]
  },
  {
   "cell_type": "code",
   "execution_count": null,
   "metadata": {},
   "outputs": [],
   "source": [
    "# move the downloaded files to a more appropriate directory\n",
    "files = glob(os.path.join(ground_level_raw, \"compressed\", \"geojson\", \"*\"))\n",
    "\n",
    "for file in files:\n",
    "    shutil.move(file, ground_level_raw)\n",
    "\n",
    "# delete empty directories\n",
    "shutil.rmtree(os.path.join(ground_level_raw, \"compressed\"))"
   ]
  },
  {
   "cell_type": "markdown",
   "metadata": {},
   "source": [
    "Computing gradients on each tile separately creates errors on the borders of the tiles but would be necessary,\n",
    "if the whole data shall be use because the current approach assumes the input of gradient computing is rectangular.\n",
    "Use a subset of the data because it is\n",
    "1. easier to use because of the dataset size\n",
    "2. more accurate"
   ]
  },
  {
   "cell_type": "code",
   "execution_count": null,
   "metadata": {},
   "outputs": [],
   "source": [
    "file_names = []\n",
    "\n",
    "for x_offset in range(number_of_tiles):\n",
    "    for y_offset in range(number_of_tiles):\n",
    "\n",
    "        x = x_coordinate_start + x_offset * 2\n",
    "        y = y_coordinate_start + y_offset * 2\n",
    "\n",
    "        file_names.append(os.path.join(ground_level_raw, f\"{x}_{y}.geojson\"))"
   ]
  },
  {
   "cell_type": "code",
   "execution_count": null,
   "metadata": {},
   "outputs": [],
   "source": [
    "# read the subset of tiles and create one Data Frame\n",
    "data_frames_ground_level = [gpd.read_file(file) for file in file_names]\n",
    "\n",
    "df_ground_level_subset = reduce(lambda a, b: a.append(b), data_frames_ground_level)"
   ]
  },
  {
   "cell_type": "code",
   "execution_count": null,
   "metadata": {},
   "outputs": [],
   "source": [
    "# some column selection\n",
    "df_ground_level_subset.drop(columns=[\"x\", \"y\"], inplace=True)\n",
    "\n",
    "# compute gradients of the ground levels\n",
    "x_size = y_size = int(np.sqrt(df_ground_level_subset.shape[0]))\n",
    "ground_level_matrix = np.array(df_ground_level_subset[\"height\"]).reshape((x_size, y_size))\n",
    "ground_level_gradients = np.gradient(ground_level_matrix)\n",
    "\n",
    "df_ground_level_subset[\"y gradient\"] = ground_level_gradients[0].flatten()\n",
    "df_ground_level_subset[\"x gradient\"] = ground_level_gradients[1].flatten()"
   ]
  },
  {
   "cell_type": "code",
   "execution_count": null,
   "metadata": {},
   "outputs": [],
   "source": [
    "# save the preprocessed DataFrame\n",
    "df_ground_level_subset.to_file(os.path.join(ground_level_interim, \"ground_level_subset.geojson\"), driver=\"GeoJSON\")"
   ]
  },
  {
   "cell_type": "code",
   "execution_count": null,
   "metadata": {},
   "outputs": [],
   "source": [
    "df_ground_level_subset.head()"
   ]
  },
  {
   "cell_type": "markdown",
   "metadata": {},
   "source": [
    "# Districts of Berlin"
   ]
  },
  {
   "cell_type": "code",
   "execution_count": null,
   "metadata": {},
   "outputs": [],
   "source": [
    "# get and save the raw data\n",
    "df_district = gpd.read_file(district_url)\n",
    "df_district.to_crs(crs={\"init\": \"epsg:25833\"}, inplace=True)\n",
    "df_district.to_file(os.path.join(district_raw, \"district.geojson\"), driver=\"GeoJSON\")"
   ]
  },
  {
   "cell_type": "code",
   "execution_count": null,
   "metadata": {},
   "outputs": [],
   "source": [
    "# drop some columns, rename the rest, and save the data\n",
    "df_district = df_district[[\"Gemeinde_n\", \"geometry\"]]\n",
    "df_district.columns = [\"district\", \"geometry\"]\n",
    "df_district.to_file(os.path.join(district_interim, \"district.geojson\"), driver=\"GeoJSON\")"
   ]
  },
  {
   "cell_type": "code",
   "execution_count": null,
   "metadata": {},
   "outputs": [],
   "source": [
    "df_district.head()"
   ]
  },
  {
   "cell_type": "markdown",
   "metadata": {},
   "source": [
    "# Level of Sealing\n",
    "\n",
    "Used the software [QGIS](https://www.qgis.org/en/site/) to download\n",
    "the data `geojson` dump to `../data/raw/sealing/sealing.geojson`.\n",
    "\n",
    "- The original map: https://fbinter.stadt-berlin.de/fb/index.jsp?loginkey=showMap&mapId=wmsk01_02versieg2016@senstadt\n",
    "- WFS: https://fbinter.stadt-berlin.de/fb/berlin/service_intern.jsp?id=sach_nutz2015_nutzsa@senstadt&type=WFS"
   ]
  },
  {
   "cell_type": "code",
   "execution_count": null,
   "metadata": {},
   "outputs": [],
   "source": [
    "df_sealing = gpd.read_file(os.path.join(sealing_raw, \"sealing.geojson\"))"
   ]
  },
  {
   "cell_type": "code",
   "execution_count": null,
   "metadata": {},
   "outputs": [],
   "source": [
    "df_sealing = df_sealing[[\"VG_0\", \"geometry\"]]\n",
    "df_sealing.columns = [\"sealing\", \"geometry\"]\n",
    "\n",
    "df_sealing.to_file(os.path.join(sealing_interim, \"sealing.geojson\"), driver=\"GeoJSON\")"
   ]
  },
  {
   "cell_type": "code",
   "execution_count": null,
   "metadata": {},
   "outputs": [],
   "source": [
    "df_sealing.head()"
   ]
  }
 ],
 "metadata": {
  "kernelspec": {
   "display_name": "Python 3",
   "language": "python",
   "name": "python3"
  },
  "language_info": {
   "codemirror_mode": {
    "name": "ipython",
    "version": 3
   },
   "file_extension": ".py",
   "mimetype": "text/x-python",
   "name": "python",
   "nbconvert_exporter": "python",
   "pygments_lexer": "ipython3",
   "version": "3.7.5"
  }
 },
 "nbformat": 4,
 "nbformat_minor": 4
}
