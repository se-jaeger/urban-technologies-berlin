{
 "cells": [
  {
   "cell_type": "code",
   "execution_count": null,
   "metadata": {},
   "outputs": [],
   "source": [
    "import os\n",
    "from glob import glob\n",
    "\n",
    "import contextily as ctx\n",
    "import geopandas as gpd\n",
    "import matplotlib.pyplot as plt\n",
    "from matplotlib.colors import LinearSegmentedColormap\n",
    "from PIL import Image\n",
    "\n",
    "from urban_technologies_berlin.utils import get_tile_square_meter"
   ]
  },
  {
   "cell_type": "code",
   "execution_count": null,
   "metadata": {},
   "outputs": [],
   "source": [
    "data_simulation = os.path.join(\"../data\", \"interim\", \"simulation\")\n",
    "\n",
    "simulation_jpg = os.path.join(\"../reports/figures/simulation/jpg\")\n",
    "simulation_gif = os.path.join(\"../reports/figures/simulation/gif\")"
   ]
  },
  {
   "cell_type": "markdown",
   "metadata": {},
   "source": [
    "Checks for available simulations and parametrize them all."
   ]
  },
  {
   "cell_type": "code",
   "execution_count": null,
   "metadata": {},
   "outputs": [],
   "source": [
    "simulations = glob(os.path.join(data_simulation, \"*\"))\n",
    "simulation_names = [os.path.split(path)[1] for path in simulations]\n",
    "\n",
    "iterations = len(glob(os.path.join(simulations[0], \"*\")))"
   ]
  },
  {
   "cell_type": "code",
   "execution_count": null,
   "metadata": {},
   "outputs": [],
   "source": [
    "# first, setup all directories\n",
    "for directory in [\n",
    "    simulation_jpg,\n",
    "    simulation_gif,\n",
    "    *[os.path.join(simulation_jpg, simulation) for simulation in simulation_names]\n",
    "]:\n",
    "    if not os.path.exists(directory):\n",
    "        os.makedirs(directory)"
   ]
  },
  {
   "cell_type": "markdown",
   "metadata": {},
   "source": [
    "## Visualize the Simulations\n",
    "\n",
    "Uses the simulated GeoJSON files to visualize the water level.\n",
    "So it creates for each iteration one visualization\n",
    "and finaly combines them to an animated gif."
   ]
  },
  {
   "cell_type": "code",
   "execution_count": null,
   "metadata": {},
   "outputs": [],
   "source": [
    "critical_water_level = 30  # in cm"
   ]
  },
  {
   "cell_type": "code",
   "execution_count": null,
   "metadata": {},
   "outputs": [],
   "source": [
    "for simulation in simulation_names:\n",
    "\n",
    "    image_files = []\n",
    "\n",
    "    for step in range(iterations):\n",
    "\n",
    "        file_name = f\"{simulation}-step-{step}\"\n",
    "        file_path = os.path.join(data_simulation, simulation, file_name + \".geojson\")\n",
    "        data_frame = gpd.read_file(file_path)\n",
    "\n",
    "        # 100 l water per square meter leads to 10cm of water level\n",
    "        # -> correspondingly for more square meters\n",
    "        max_water_level = critical_water_level * 10 * get_tile_square_meter(data_frame)\n",
    "        min_water_level = 0\n",
    "\n",
    "        map_water_level = data_frame.to_crs(epsg=3857).plot(\n",
    "            figsize=(25, 25),\n",
    "            column=\"water level\",\n",
    "            alpha=0.5,\n",
    "            cmap=LinearSegmentedColormap.from_list(\"\", [\"green\", \"yellow\", \"orange\", \"red\"], N=1000),\n",
    "            norm=plt.Normalize(min_water_level, max_water_level)\n",
    "        )\n",
    "\n",
    "        ctx.add_basemap(map_water_level, url=ctx.providers.Stamen.TonerLite)\n",
    "        map_water_level.set_axis_off()\n",
    "\n",
    "        image_file = os.path.join(simulation_jpg, simulation, f\"{file_name}.jpg\")\n",
    "        image_files.append(image_file)\n",
    "\n",
    "        plt.savefig(\n",
    "            image_file,\n",
    "            optimize=True,\n",
    "            bbox_inches=\"tight\",\n",
    "            pad_inches=0\n",
    "        )\n",
    "\n",
    "        # some cleanup to free memory\n",
    "        plt.close(\"all\")\n",
    "        del data_frame\n",
    "\n",
    "    # create the gif file\n",
    "    images = [Image.open(image_file) for image_file in image_files]\n",
    "\n",
    "    images[0].save(\n",
    "        os.path.join(simulation_gif, simulation + \".gif\"),\n",
    "        format=\"GIF\",\n",
    "        append_images=images[1:],\n",
    "        save_all=True,\n",
    "        duration=1000,\n",
    "        loop=0,\n",
    "        optimize=True\n",
    "    )\n",
    "\n",
    "    del images"
   ]
  }
 ],
 "metadata": {
  "kernelspec": {
   "display_name": "Python 3",
   "language": "python",
   "name": "python3"
  },
  "language_info": {
   "codemirror_mode": {
    "name": "ipython",
    "version": 3
   },
   "file_extension": ".py",
   "mimetype": "text/x-python",
   "name": "python",
   "nbconvert_exporter": "python",
   "pygments_lexer": "ipython3",
   "version": "3.7.5"
  }
 },
 "nbformat": 4,
 "nbformat_minor": 4
}
